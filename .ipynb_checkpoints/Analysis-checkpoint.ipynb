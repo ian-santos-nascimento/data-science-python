{
 "cells": [
  {
   "cell_type": "code",
   "execution_count": 17,
   "id": "e23f520d",
   "metadata": {},
   "outputs": [],
   "source": [
    "import pandas as pd\n",
    "import os\n",
    "from os import listdir\n"
   ]
  },
  {
   "cell_type": "code",
   "execution_count": 18,
   "id": "8381cf25",
   "metadata": {},
   "outputs": [],
   "source": [
    "##MERGING 12 MONTHS OF DATA INTO ONE FILE"
   ]
  },
  {
   "cell_type": "code",
   "execution_count": 19,
   "id": "ad3a4c6f",
   "metadata": {},
   "outputs": [],
   "source": [
    "files = [f for f in os.listdir(\"./Sales_Data/\")]"
   ]
  },
  {
   "cell_type": "code",
   "execution_count": 20,
   "id": "48cef033",
   "metadata": {},
   "outputs": [],
   "source": [
    "resultado = pd.DataFrame()\n",
    "csv = pd.DataFrame()\n",
    "for file in files:\n",
    "    csv = pd.read_csv(\"./Sales_Data/\"+file)\n",
    "    resultado = pd.concat([resultado, csv], axis = 0)\n",
    "    resultado.to_csv(\"./todos.csv\")\n"
   ]
  },
  {
   "cell_type": "code",
   "execution_count": 21,
   "id": "517a9a16",
   "metadata": {},
   "outputs": [],
   "source": [
    "todos_arquivos = pd.read_csv(\"./todos.csv\")"
   ]
  },
  {
   "cell_type": "code",
   "execution_count": 22,
   "id": "f3fda35a",
   "metadata": {},
   "outputs": [
    {
     "data": {
      "text/html": [
       "<div>\n",
       "<style scoped>\n",
       "    .dataframe tbody tr th:only-of-type {\n",
       "        vertical-align: middle;\n",
       "    }\n",
       "\n",
       "    .dataframe tbody tr th {\n",
       "        vertical-align: top;\n",
       "    }\n",
       "\n",
       "    .dataframe thead th {\n",
       "        text-align: right;\n",
       "    }\n",
       "</style>\n",
       "<table border=\"1\" class=\"dataframe\">\n",
       "  <thead>\n",
       "    <tr style=\"text-align: right;\">\n",
       "      <th></th>\n",
       "      <th>Unnamed: 0</th>\n",
       "      <th>Order ID</th>\n",
       "      <th>Product</th>\n",
       "      <th>Quantity Ordered</th>\n",
       "      <th>Price Each</th>\n",
       "      <th>Order Date</th>\n",
       "      <th>Purchase Address</th>\n",
       "    </tr>\n",
       "  </thead>\n",
       "  <tbody>\n",
       "    <tr>\n",
       "      <th>0</th>\n",
       "      <td>0</td>\n",
       "      <td>176558</td>\n",
       "      <td>USB-C Charging Cable</td>\n",
       "      <td>2</td>\n",
       "      <td>11.95</td>\n",
       "      <td>04/19/19 08:46</td>\n",
       "      <td>917 1st St, Dallas, TX 75001</td>\n",
       "    </tr>\n",
       "    <tr>\n",
       "      <th>1</th>\n",
       "      <td>1</td>\n",
       "      <td>NaN</td>\n",
       "      <td>NaN</td>\n",
       "      <td>NaN</td>\n",
       "      <td>NaN</td>\n",
       "      <td>NaN</td>\n",
       "      <td>NaN</td>\n",
       "    </tr>\n",
       "    <tr>\n",
       "      <th>2</th>\n",
       "      <td>2</td>\n",
       "      <td>176559</td>\n",
       "      <td>Bose SoundSport Headphones</td>\n",
       "      <td>1</td>\n",
       "      <td>99.99</td>\n",
       "      <td>04/07/19 22:30</td>\n",
       "      <td>682 Chestnut St, Boston, MA 02215</td>\n",
       "    </tr>\n",
       "    <tr>\n",
       "      <th>3</th>\n",
       "      <td>3</td>\n",
       "      <td>176560</td>\n",
       "      <td>Google Phone</td>\n",
       "      <td>1</td>\n",
       "      <td>600</td>\n",
       "      <td>04/12/19 14:38</td>\n",
       "      <td>669 Spruce St, Los Angeles, CA 90001</td>\n",
       "    </tr>\n",
       "    <tr>\n",
       "      <th>4</th>\n",
       "      <td>4</td>\n",
       "      <td>176560</td>\n",
       "      <td>Wired Headphones</td>\n",
       "      <td>1</td>\n",
       "      <td>11.99</td>\n",
       "      <td>04/12/19 14:38</td>\n",
       "      <td>669 Spruce St, Los Angeles, CA 90001</td>\n",
       "    </tr>\n",
       "    <tr>\n",
       "      <th>5</th>\n",
       "      <td>5</td>\n",
       "      <td>176561</td>\n",
       "      <td>Wired Headphones</td>\n",
       "      <td>1</td>\n",
       "      <td>11.99</td>\n",
       "      <td>04/30/19 09:27</td>\n",
       "      <td>333 8th St, Los Angeles, CA 90001</td>\n",
       "    </tr>\n",
       "    <tr>\n",
       "      <th>6</th>\n",
       "      <td>6</td>\n",
       "      <td>176562</td>\n",
       "      <td>USB-C Charging Cable</td>\n",
       "      <td>1</td>\n",
       "      <td>11.95</td>\n",
       "      <td>04/29/19 13:03</td>\n",
       "      <td>381 Wilson St, San Francisco, CA 94016</td>\n",
       "    </tr>\n",
       "    <tr>\n",
       "      <th>7</th>\n",
       "      <td>7</td>\n",
       "      <td>176563</td>\n",
       "      <td>Bose SoundSport Headphones</td>\n",
       "      <td>1</td>\n",
       "      <td>99.99</td>\n",
       "      <td>04/02/19 07:46</td>\n",
       "      <td>668 Center St, Seattle, WA 98101</td>\n",
       "    </tr>\n",
       "    <tr>\n",
       "      <th>8</th>\n",
       "      <td>8</td>\n",
       "      <td>176564</td>\n",
       "      <td>USB-C Charging Cable</td>\n",
       "      <td>1</td>\n",
       "      <td>11.95</td>\n",
       "      <td>04/12/19 10:58</td>\n",
       "      <td>790 Ridge St, Atlanta, GA 30301</td>\n",
       "    </tr>\n",
       "    <tr>\n",
       "      <th>9</th>\n",
       "      <td>9</td>\n",
       "      <td>176565</td>\n",
       "      <td>Macbook Pro Laptop</td>\n",
       "      <td>1</td>\n",
       "      <td>1700</td>\n",
       "      <td>04/24/19 10:38</td>\n",
       "      <td>915 Willow St, San Francisco, CA 94016</td>\n",
       "    </tr>\n",
       "  </tbody>\n",
       "</table>\n",
       "</div>"
      ],
      "text/plain": [
       "   Unnamed: 0 Order ID                     Product Quantity Ordered  \\\n",
       "0           0   176558        USB-C Charging Cable                2   \n",
       "1           1      NaN                         NaN              NaN   \n",
       "2           2   176559  Bose SoundSport Headphones                1   \n",
       "3           3   176560                Google Phone                1   \n",
       "4           4   176560            Wired Headphones                1   \n",
       "5           5   176561            Wired Headphones                1   \n",
       "6           6   176562        USB-C Charging Cable                1   \n",
       "7           7   176563  Bose SoundSport Headphones                1   \n",
       "8           8   176564        USB-C Charging Cable                1   \n",
       "9           9   176565          Macbook Pro Laptop                1   \n",
       "\n",
       "  Price Each      Order Date                        Purchase Address  \n",
       "0      11.95  04/19/19 08:46            917 1st St, Dallas, TX 75001  \n",
       "1        NaN             NaN                                     NaN  \n",
       "2      99.99  04/07/19 22:30       682 Chestnut St, Boston, MA 02215  \n",
       "3        600  04/12/19 14:38    669 Spruce St, Los Angeles, CA 90001  \n",
       "4      11.99  04/12/19 14:38    669 Spruce St, Los Angeles, CA 90001  \n",
       "5      11.99  04/30/19 09:27       333 8th St, Los Angeles, CA 90001  \n",
       "6      11.95  04/29/19 13:03  381 Wilson St, San Francisco, CA 94016  \n",
       "7      99.99  04/02/19 07:46        668 Center St, Seattle, WA 98101  \n",
       "8      11.95  04/12/19 10:58         790 Ridge St, Atlanta, GA 30301  \n",
       "9       1700  04/24/19 10:38  915 Willow St, San Francisco, CA 94016  "
      ]
     },
     "execution_count": 22,
     "metadata": {},
     "output_type": "execute_result"
    }
   ],
   "source": [
    "todos_arquivos.head(10)"
   ]
  },
  {
   "cell_type": "markdown",
   "id": "6a107209",
   "metadata": {},
   "source": [
    "### What was the best month for sales and how much was earned that month?"
   ]
  },
  {
   "cell_type": "code",
   "execution_count": 23,
   "id": "c4ee1e81",
   "metadata": {},
   "outputs": [],
   "source": [
    "todos_arquivos= todos_arquivos.dropna() #Dropa todos os NaN"
   ]
  },
  {
   "cell_type": "code",
   "execution_count": 24,
   "id": "820cf78e",
   "metadata": {},
   "outputs": [],
   "source": [
    "#Para remover todas as linhas em que na coluna \"Quantity Ordered\" o valor seja igual ao nome da coluna\n",
    "todos_arquivos.drop(todos_arquivos[todos_arquivos[\"Quantity Ordered\"] == \"Quantity Ordered\"].index, inplace=True)"
   ]
  },
  {
   "cell_type": "code",
   "execution_count": 25,
   "id": "9d2c4f6f",
   "metadata": {},
   "outputs": [],
   "source": [
    "todos_arquivos[\"Quantity Ordered\"] = pd.to_numeric(todos_arquivos[\"Quantity Ordered\"])   #Transformar string pra inteiro\n",
    "todos_arquivos[\"Price Each\"] = pd.to_numeric(todos_arquivos[\"Price Each\"])  #Transformar string pra inteiro\n",
    "todos_arquivos[\"Total\"] = todos_arquivos[\"Quantity Ordered\"] * todos_arquivos[\"Price Each\"] #Nova coluna para receber o resultado"
   ]
  },
  {
   "cell_type": "code",
   "execution_count": 26,
   "id": "d656fbbf",
   "metadata": {},
   "outputs": [],
   "source": [
    "#Nova colona de meses para filtrar os valores por mês\n",
    "todos_arquivos[\"Month\"] = pd.to_numeric(todos_arquivos[\"Order Date\"].str[0:2])"
   ]
  },
  {
   "cell_type": "code",
   "execution_count": 27,
   "id": "2f034c5e",
   "metadata": {},
   "outputs": [],
   "source": [
    "#Rearranjo de colunas\n",
    "columns = [\"Order ID\", \"Product\", \"Quantity Ordered\", \"Price Each\",\"Total\", \"Month\", \"Order Date\", \"Purchase Address\"]\n",
    "todos_arquivos = todos_arquivos.reindex(columns = columns)"
   ]
  },
  {
   "cell_type": "code",
   "execution_count": 28,
   "id": "543c4bd6",
   "metadata": {},
   "outputs": [
    {
     "data": {
      "text/plain": [
       "Month\n",
       "1     1822256.73\n",
       "2     2202022.42\n",
       "3     2807100.38\n",
       "4     3390670.24\n",
       "5     3152606.75\n",
       "6     2577802.26\n",
       "7     2647775.76\n",
       "8     2244467.88\n",
       "9     2097560.13\n",
       "10    3736726.88\n",
       "11    3199603.20\n",
       "12    4613443.34\n",
       "Name: Total, dtype: float64"
      ]
     },
     "execution_count": 28,
     "metadata": {},
     "output_type": "execute_result"
    }
   ],
   "source": [
    "#Resposta\n",
    "todos_arquivos.groupby(\"Month\").sum()[\"Total\"]"
   ]
  },
  {
   "cell_type": "code",
   "execution_count": 29,
   "id": "968ff3ff",
   "metadata": {
    "scrolled": true
   },
   "outputs": [
    {
     "data": {
      "text/plain": [
       "Text(0.5, 0, 'Month')"
      ]
     },
     "execution_count": 29,
     "metadata": {},
     "output_type": "execute_result"
    },
    {
     "data": {
      "image/png": "[encoded data removed]",
      "text/plain": [
       "<Figure size 432x288 with 1 Axes>"
      ]
     },
     "metadata": {
      "needs_background": "light"
     },
     "output_type": "display_data"
    }
   ],
   "source": [
    "#Making a graphic\n",
    "import matplotlib.pyplot as plt\n",
    "months = range(1,13)\n",
    "result = todos_arquivos.groupby(\"Month\").sum()[\"Total\"]\n",
    "plt.bar(months,result)\n",
    "plt.ylabel(\"Total earned by million(US$)\")\n",
    "plt.xlabel(\"Month\")"
   ]
  },
  {
   "cell_type": "markdown",
   "id": "5a142e82",
   "metadata": {},
   "source": [
    "## What US city had the highest number of sales"
   ]
  },
  {
   "cell_type": "code",
   "execution_count": 30,
   "id": "29e0d608",
   "metadata": {},
   "outputs": [
    {
     "data": {
      "text/html": [
       "<div>\n",
       "<style scoped>\n",
       "    .dataframe tbody tr th:only-of-type {\n",
       "        vertical-align: middle;\n",
       "    }\n",
       "\n",
       "    .dataframe tbody tr th {\n",
       "        vertical-align: top;\n",
       "    }\n",
       "\n",
       "    .dataframe thead th {\n",
       "        text-align: right;\n",
       "    }\n",
       "</style>\n",
       "<table border=\"1\" class=\"dataframe\">\n",
       "  <thead>\n",
       "    <tr style=\"text-align: right;\">\n",
       "      <th></th>\n",
       "      <th>Order ID</th>\n",
       "      <th>Product</th>\n",
       "      <th>Quantity Ordered</th>\n",
       "      <th>Price Each</th>\n",
       "      <th>Total</th>\n",
       "      <th>Month</th>\n",
       "      <th>Order Date</th>\n",
       "      <th>Purchase Address</th>\n",
       "    </tr>\n",
       "  </thead>\n",
       "  <tbody>\n",
       "    <tr>\n",
       "      <th>0</th>\n",
       "      <td>176558</td>\n",
       "      <td>USB-C Charging Cable</td>\n",
       "      <td>2</td>\n",
       "      <td>11.95</td>\n",
       "      <td>23.90</td>\n",
       "      <td>4</td>\n",
       "      <td>04/19/19 08:46</td>\n",
       "      <td>917 1st St, Dallas, TX 75001</td>\n",
       "    </tr>\n",
       "    <tr>\n",
       "      <th>2</th>\n",
       "      <td>176559</td>\n",
       "      <td>Bose SoundSport Headphones</td>\n",
       "      <td>1</td>\n",
       "      <td>99.99</td>\n",
       "      <td>99.99</td>\n",
       "      <td>4</td>\n",
       "      <td>04/07/19 22:30</td>\n",
       "      <td>682 Chestnut St, Boston, MA 02215</td>\n",
       "    </tr>\n",
       "    <tr>\n",
       "      <th>3</th>\n",
       "      <td>176560</td>\n",
       "      <td>Google Phone</td>\n",
       "      <td>1</td>\n",
       "      <td>600.00</td>\n",
       "      <td>600.00</td>\n",
       "      <td>4</td>\n",
       "      <td>04/12/19 14:38</td>\n",
       "      <td>669 Spruce St, Los Angeles, CA 90001</td>\n",
       "    </tr>\n",
       "    <tr>\n",
       "      <th>4</th>\n",
       "      <td>176560</td>\n",
       "      <td>Wired Headphones</td>\n",
       "      <td>1</td>\n",
       "      <td>11.99</td>\n",
       "      <td>11.99</td>\n",
       "      <td>4</td>\n",
       "      <td>04/12/19 14:38</td>\n",
       "      <td>669 Spruce St, Los Angeles, CA 90001</td>\n",
       "    </tr>\n",
       "    <tr>\n",
       "      <th>5</th>\n",
       "      <td>176561</td>\n",
       "      <td>Wired Headphones</td>\n",
       "      <td>1</td>\n",
       "      <td>11.99</td>\n",
       "      <td>11.99</td>\n",
       "      <td>4</td>\n",
       "      <td>04/30/19 09:27</td>\n",
       "      <td>333 8th St, Los Angeles, CA 90001</td>\n",
       "    </tr>\n",
       "  </tbody>\n",
       "</table>\n",
       "</div>"
      ],
      "text/plain": [
       "  Order ID                     Product  Quantity Ordered  Price Each   Total  \\\n",
       "0   176558        USB-C Charging Cable                 2       11.95   23.90   \n",
       "2   176559  Bose SoundSport Headphones                 1       99.99   99.99   \n",
       "3   176560                Google Phone                 1      600.00  600.00   \n",
       "4   176560            Wired Headphones                 1       11.99   11.99   \n",
       "5   176561            Wired Headphones                 1       11.99   11.99   \n",
       "\n",
       "   Month      Order Date                      Purchase Address  \n",
       "0      4  04/19/19 08:46          917 1st St, Dallas, TX 75001  \n",
       "2      4  04/07/19 22:30     682 Chestnut St, Boston, MA 02215  \n",
       "3      4  04/12/19 14:38  669 Spruce St, Los Angeles, CA 90001  \n",
       "4      4  04/12/19 14:38  669 Spruce St, Los Angeles, CA 90001  \n",
       "5      4  04/30/19 09:27     333 8th St, Los Angeles, CA 90001  "
      ]
     },
     "execution_count": 30,
     "metadata": {},
     "output_type": "execute_result"
    }
   ],
   "source": [
    "todos_arquivos.head()"
   ]
  },
  {
   "cell_type": "code",
   "execution_count": 31,
   "id": "0df547af",
   "metadata": {},
   "outputs": [],
   "source": [
    "todos_arquivos[\"Purchase Address\"] = todos_arquivos[\"Purchase Address\"].str.split(\",\")\n",
    "todos_arquivos[\"city\"] = todos_arquivos[\"Purchase Address\"].str[1]"
   ]
  },
  {
   "cell_type": "code",
   "execution_count": 32,
   "id": "583fc545",
   "metadata": {},
   "outputs": [
    {
     "data": {
      "text/html": [
       "<div>\n",
       "<style scoped>\n",
       "    .dataframe tbody tr th:only-of-type {\n",
       "        vertical-align: middle;\n",
       "    }\n",
       "\n",
       "    .dataframe tbody tr th {\n",
       "        vertical-align: top;\n",
       "    }\n",
       "\n",
       "    .dataframe thead th {\n",
       "        text-align: right;\n",
       "    }\n",
       "</style>\n",
       "<table border=\"1\" class=\"dataframe\">\n",
       "  <thead>\n",
       "    <tr style=\"text-align: right;\">\n",
       "      <th></th>\n",
       "      <th>Order ID</th>\n",
       "      <th>Product</th>\n",
       "      <th>Quantity Ordered</th>\n",
       "      <th>Price Each</th>\n",
       "      <th>Total</th>\n",
       "      <th>Month</th>\n",
       "      <th>Order Date</th>\n",
       "      <th>Purchase Address</th>\n",
       "      <th>city</th>\n",
       "    </tr>\n",
       "  </thead>\n",
       "  <tbody>\n",
       "    <tr>\n",
       "      <th>0</th>\n",
       "      <td>176558</td>\n",
       "      <td>USB-C Charging Cable</td>\n",
       "      <td>2</td>\n",
       "      <td>11.95</td>\n",
       "      <td>23.90</td>\n",
       "      <td>4</td>\n",
       "      <td>04/19/19 08:46</td>\n",
       "      <td>[917 1st St,  Dallas,  TX 75001]</td>\n",
       "      <td>Dallas</td>\n",
       "    </tr>\n",
       "    <tr>\n",
       "      <th>2</th>\n",
       "      <td>176559</td>\n",
       "      <td>Bose SoundSport Headphones</td>\n",
       "      <td>1</td>\n",
       "      <td>99.99</td>\n",
       "      <td>99.99</td>\n",
       "      <td>4</td>\n",
       "      <td>04/07/19 22:30</td>\n",
       "      <td>[682 Chestnut St,  Boston,  MA 02215]</td>\n",
       "      <td>Boston</td>\n",
       "    </tr>\n",
       "    <tr>\n",
       "      <th>3</th>\n",
       "      <td>176560</td>\n",
       "      <td>Google Phone</td>\n",
       "      <td>1</td>\n",
       "      <td>600.00</td>\n",
       "      <td>600.00</td>\n",
       "      <td>4</td>\n",
       "      <td>04/12/19 14:38</td>\n",
       "      <td>[669 Spruce St,  Los Angeles,  CA 90001]</td>\n",
       "      <td>Los Angeles</td>\n",
       "    </tr>\n",
       "    <tr>\n",
       "      <th>4</th>\n",
       "      <td>176560</td>\n",
       "      <td>Wired Headphones</td>\n",
       "      <td>1</td>\n",
       "      <td>11.99</td>\n",
       "      <td>11.99</td>\n",
       "      <td>4</td>\n",
       "      <td>04/12/19 14:38</td>\n",
       "      <td>[669 Spruce St,  Los Angeles,  CA 90001]</td>\n",
       "      <td>Los Angeles</td>\n",
       "    </tr>\n",
       "    <tr>\n",
       "      <th>5</th>\n",
       "      <td>176561</td>\n",
       "      <td>Wired Headphones</td>\n",
       "      <td>1</td>\n",
       "      <td>11.99</td>\n",
       "      <td>11.99</td>\n",
       "      <td>4</td>\n",
       "      <td>04/30/19 09:27</td>\n",
       "      <td>[333 8th St,  Los Angeles,  CA 90001]</td>\n",
       "      <td>Los Angeles</td>\n",
       "    </tr>\n",
       "  </tbody>\n",
       "</table>\n",
       "</div>"
      ],
      "text/plain": [
       "  Order ID                     Product  Quantity Ordered  Price Each   Total  \\\n",
       "0   176558        USB-C Charging Cable                 2       11.95   23.90   \n",
       "2   176559  Bose SoundSport Headphones                 1       99.99   99.99   \n",
       "3   176560                Google Phone                 1      600.00  600.00   \n",
       "4   176560            Wired Headphones                 1       11.99   11.99   \n",
       "5   176561            Wired Headphones                 1       11.99   11.99   \n",
       "\n",
       "   Month      Order Date                          Purchase Address  \\\n",
       "0      4  04/19/19 08:46          [917 1st St,  Dallas,  TX 75001]   \n",
       "2      4  04/07/19 22:30     [682 Chestnut St,  Boston,  MA 02215]   \n",
       "3      4  04/12/19 14:38  [669 Spruce St,  Los Angeles,  CA 90001]   \n",
       "4      4  04/12/19 14:38  [669 Spruce St,  Los Angeles,  CA 90001]   \n",
       "5      4  04/30/19 09:27     [333 8th St,  Los Angeles,  CA 90001]   \n",
       "\n",
       "           city  \n",
       "0        Dallas  \n",
       "2        Boston  \n",
       "3   Los Angeles  \n",
       "4   Los Angeles  \n",
       "5   Los Angeles  "
      ]
     },
     "execution_count": 32,
     "metadata": {},
     "output_type": "execute_result"
    }
   ],
   "source": [
    "todos_arquivos.head()"
   ]
  },
  {
   "cell_type": "code",
   "execution_count": 33,
   "id": "dac717fd",
   "metadata": {},
   "outputs": [],
   "source": [
    "second_answer = todos_arquivos.groupby(\"city\").sum()[\"Quantity Ordered\"]"
   ]
  },
  {
   "cell_type": "code",
   "execution_count": null,
   "id": "d837f779",
   "metadata": {},
   "outputs": [],
   "source": []
  }
 ],
 "metadata": {
  "kernelspec": {
   "display_name": "Python 3 (ipykernel)",
   "language": "python",
   "name": "python3"
  },
  "language_info": {
   "codemirror_mode": {
    "name": "ipython",
    "version": 3
   },
   "file_extension": ".py",
   "mimetype": "text/x-python",
   "name": "python",
   "nbconvert_exporter": "python",
   "pygments_lexer": "ipython3",
   "version": "3.8.10"
  }
 },
 "nbformat": 4,
 "nbformat_minor": 5
}
